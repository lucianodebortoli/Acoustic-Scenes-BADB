{
 "cells": [
  {
   "cell_type": "code",
   "execution_count": 3,
   "metadata": {},
   "outputs": [],
   "source": [
    "with open(\"labels.txt\") as file:\n",
    "    labels = [line.rstrip('\\n') for line in file.readlines()]\n",
    "    "
   ]
  },
  {
   "cell_type": "code",
   "execution_count": 4,
   "metadata": {},
   "outputs": [
    {
     "data": {
      "text/plain": [
       "['00_quiet_interior\\n',\n",
       " '01_cafe_resto\\n',\n",
       " '02_mall\\n',\n",
       " '03_urban_park\\n',\n",
       " '04_street_urban\\n',\n",
       " '05_street_traffic\\n',\n",
       " '06_bus\\n',\n",
       " '07_car\\n',\n",
       " '08_train\\n',\n",
       " '09_metro\\n',\n",
       " '10_metro_station']"
      ]
     },
     "execution_count": 4,
     "metadata": {},
     "output_type": "execute_result"
    }
   ],
   "source": [
    "labels"
   ]
  }
 ],
 "metadata": {
  "kernelspec": {
   "display_name": "Python 3",
   "language": "python",
   "name": "python3"
  },
  "language_info": {
   "codemirror_mode": {
    "name": "ipython",
    "version": 3
   },
   "file_extension": ".py",
   "mimetype": "text/x-python",
   "name": "python",
   "nbconvert_exporter": "python",
   "pygments_lexer": "ipython3",
   "version": "3.7.7"
  }
 },
 "nbformat": 4,
 "nbformat_minor": 4
}
